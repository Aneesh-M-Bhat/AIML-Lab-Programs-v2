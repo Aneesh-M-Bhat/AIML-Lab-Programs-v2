{
 "cells": [
  {
   "cell_type": "code",
   "execution_count": 8,
   "id": "9cf64848",
   "metadata": {},
   "outputs": [
    {
     "name": "stdout",
     "output_type": "stream",
     "text": [
      "Display Tree\n",
      " {'Outlook': {'Overcast': 'Yes', 'Rain': {'Wind': {'Strong': 'No', 'Weak': 'Yes'}}, 'Sunny': {'Humidity': {'High': 'No', 'Normal': 'Yes'}}}}\n"
     ]
    }
   ],
   "source": [
    "import pandas as pd\n",
    "import numpy as np\n",
    "dataset=pd.read_csv('Tennis.csv',names=['Outlook','Temperature','Humidity','Wind','PlayTennis'])   \n",
    "\n",
    "def Entropy(target):\n",
    "    elements,counts = np.unique(target,return_counts = True)\n",
    "    entropy = np.sum([(-counts[i]/np.sum(counts))*np.log2(counts[i]/np.sum(counts)) for i in range(len(elements))])\n",
    "    return entropy\n",
    "\n",
    "def InfoGain(data,attr,target=\"PlayTennis\"): \n",
    "    total = Entropy(data[target])\n",
    "    vals,counts= np.unique(data[attr],return_counts=True)\n",
    "    weight = np.sum([(counts[i]/np.sum(counts))*Entropy(data.where(data[attr]==vals[i]).dropna()[target]) for i in range(len(vals))]) \n",
    "    info = total - weight\n",
    "    return info\n",
    "\n",
    "def ID3(data,original,features,target=\"PlayTennis\",parent = None):\n",
    "    if len(np.unique(data[target])) <= 1: \n",
    "        return np.unique(data[target])[0]\n",
    "    elif len(data)==0:\n",
    "        return np.unique(original[target])[np.argmax(np.unique(original[target],return_counts=True)[1])]\n",
    "    elif len(features) ==0: \n",
    "        return parent\n",
    "    else:\n",
    "        parent = np.unique(data[target])[np.argmax(np.unique(data[target],return_counts=True)[1])]\n",
    "        item_values = [InfoGain(data,feature,target) for feature in features] \n",
    "        \n",
    "        best_feature_index = np.argmax(item_values) \n",
    "        best_feature = features[best_feature_index]\n",
    "        tree = {best_feature:{}}\n",
    "        features = [i for i in features if i != best_feature]\n",
    "        for value in np.unique(data[best_feature]):\n",
    "            value = value\n",
    "            sub_data = data.where(data[best_feature] == value).dropna()\n",
    "            subtree = ID3(sub_data,dataset,features,target,parent)\n",
    "            tree[best_feature][value] = subtree\n",
    "        return(tree)\n",
    "tree = ID3(dataset,dataset,dataset.columns[:-1]) \n",
    "print('Display Tree\\n',tree)"
   ]
  }
 ],
 "metadata": {
  "kernelspec": {
   "display_name": "Python 3.10.5 64-bit",
   "language": "python",
   "name": "python3"
  },
  "language_info": {
   "codemirror_mode": {
    "name": "ipython",
    "version": 3
   },
   "file_extension": ".py",
   "mimetype": "text/x-python",
   "name": "python",
   "nbconvert_exporter": "python",
   "pygments_lexer": "ipython3",
   "version": "3.10.5 (tags/v3.10.5:f377153, Jun  6 2022, 16:14:13) [MSC v.1929 64 bit (AMD64)]"
  },
  "vscode": {
   "interpreter": {
    "hash": "369f2c481f4da34e4445cda3fffd2e751bd1c4d706f27375911949ba6bb62e1c"
   }
  }
 },
 "nbformat": 4,
 "nbformat_minor": 5
}
