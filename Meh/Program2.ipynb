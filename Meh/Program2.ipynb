{
 "cells": [
  {
   "cell_type": "code",
   "execution_count": 2,
   "metadata": {},
   "outputs": [
    {
     "name": "stdout",
     "output_type": "stream",
     "text": [
      "{'I': [], 'G': ['I'], 'B': ['G'], 'J': [], 'C': ['J'], 'A': ['B', 'C']}\n"
     ]
    }
   ],
   "source": [
    "class Graph:\n",
    "    def __init__(self, graph, heuristic, start): \n",
    "        self.graph = graph\n",
    "        self.H = heuristic\n",
    "        self.start = start\n",
    "        self.parent = {}\n",
    "        self.status = {}\n",
    "        self.solutionGraph = {}\n",
    "\n",
    "    def getNeighbors(self, v): \n",
    "        return self.graph.get(v,'')\n",
    "\n",
    "    def getStatus(self,v): \n",
    "        return self.status.get(v,0)\n",
    "\n",
    "    def setStatus(self,v, val): \n",
    "        self.status[v]=val\n",
    "\n",
    "    def getHeuristic(self, n):\n",
    "        return self.H.get(n,0) \n",
    "\n",
    "    def setHeuristic(self, n, value):\n",
    "        self.H[n]=value \n",
    "\n",
    "    def printSolution(self):\n",
    "        print(self.solutionGraph)\n",
    "\n",
    "    def computeMinimumCostChildNodes(self, v): \n",
    "        minimumCost=0\n",
    "        childList={}\n",
    "        childList[minimumCost]=[]\n",
    "        flag=True\n",
    "        for neighbour in self.getNeighbors(v): \n",
    "            cost=0\n",
    "            nodeList=[]\n",
    "            for c, weight in neighbour:\n",
    "                cost=cost+self.getHeuristic(c)+weight\n",
    "                nodeList.append(c)\n",
    "        \n",
    "            if flag==True: \n",
    "                minimumCost=cost\n",
    "                childList[minimumCost]=nodeList \n",
    "                flag=False\n",
    "            else: \n",
    "                if minimumCost>cost:\n",
    "                    minimumCost=cost\n",
    "                    childList[minimumCost]=nodeList \n",
    "\n",
    "        return minimumCost, childList[minimumCost] \n",
    "\n",
    "\n",
    "    def aoStar(self, v, backTracking): \n",
    "        if self.getStatus(v) >= 0: \n",
    "            minimumCost, childList = self.computeMinimumCostChildNodes(v)\n",
    "            self.setHeuristic(v, minimumCost)\n",
    "            self.setStatus(v,len(childList))\n",
    "\n",
    "            solved=True \n",
    "        \n",
    "            for child in childList:\n",
    "                self.parent[child]=v\n",
    "                if self.getStatus(child)!=-1:\n",
    "                    solved=solved & False\n",
    "\n",
    "            if solved==True: \n",
    "                self.setStatus(v,-1)\n",
    "                self.solutionGraph[v]=childList \n",
    "\n",
    "            if v!=self.start: \n",
    "                self.aoStar(self.parent[v], True) \n",
    "\n",
    "            if backTracking==False: \n",
    "                for child in childList: \n",
    "                    self.setStatus(child,0) \n",
    "                    self.aoStar(child, False) \n",
    "\n",
    "h = {'A': 1, 'B': 6, 'C': 2, 'D': 12, 'E': 2, 'F': 1, 'G': 5, 'H': 7, 'I': 7, 'J':1, 'T': 3}\n",
    "graph = {\n",
    "    'A': [[('B', 1), ('C', 1)], [('D', 1)]],\n",
    "    'B': [[('G', 1)], [('H', 1)]],\n",
    "    'C': [[('J', 1)]],\n",
    "    'D': [[('E', 1), ('F', 1)]],\n",
    "    'G': [[('I', 1)]]\n",
    "}\n",
    "G= Graph(graph, h, 'A')\n",
    "G.aoStar(G.start,False)\n",
    "G.printSolution()"
   ]
  }
 ],
 "metadata": {
  "kernelspec": {
   "display_name": "Python 3",
   "language": "python",
   "name": "python3"
  },
  "language_info": {
   "codemirror_mode": {
    "name": "ipython",
    "version": 3
   },
   "file_extension": ".py",
   "mimetype": "text/x-python",
   "name": "python",
   "nbconvert_exporter": "python",
   "pygments_lexer": "ipython3",
   "version": "3.10.5"
  },
  "orig_nbformat": 4,
  "vscode": {
   "interpreter": {
    "hash": "369f2c481f4da34e4445cda3fffd2e751bd1c4d706f27375911949ba6bb62e1c"
   }
  }
 },
 "nbformat": 4,
 "nbformat_minor": 2
}
