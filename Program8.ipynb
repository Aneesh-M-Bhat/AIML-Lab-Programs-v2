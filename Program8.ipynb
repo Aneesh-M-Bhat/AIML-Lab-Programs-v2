{
 "cells": [
  {
   "cell_type": "code",
   "execution_count": 19,
   "metadata": {},
   "outputs": [
    {
     "name": "stdout",
     "output_type": "stream",
     "text": [
      "Iris Data Set loaded...\n",
      "Dataset is split into training and testing samples...\n",
      "Size of trainng data and its label (135, 4) (135,)\n",
      "Size of testing data and its label (15, 4) (15,)\n",
      "Label 0 - setosa\n",
      "Label 1 - versicolor\n",
      "Label 2 - virginica\n",
      "Results of Classification using K-nn with K=1 \n",
      "Sample:  [6.6 2.9 4.6 1.3]\n",
      "ActualLabel: 1\n",
      "PredictedLabel: 1\n",
      "Sample:  [6.3 3.3 4.7 1.6]\n",
      "ActualLabel: 1\n",
      "PredictedLabel: 1\n",
      "Sample:  [5.  3.5 1.6 0.6]\n",
      "ActualLabel: 0\n",
      "PredictedLabel: 0\n",
      "Sample:  [5.1 3.3 1.7 0.5]\n",
      "ActualLabel: 0\n",
      "PredictedLabel: 0\n",
      "Sample:  [5.  3.5 1.3 0.3]\n",
      "ActualLabel: 0\n",
      "PredictedLabel: 0\n",
      "Sample:  [5.  2.3 3.3 1. ]\n",
      "ActualLabel: 1\n",
      "PredictedLabel: 1\n",
      "Sample:  [5.5 2.3 4.  1.3]\n",
      "ActualLabel: 1\n",
      "PredictedLabel: 1\n",
      "Sample:  [5.2 4.1 1.5 0.1]\n",
      "ActualLabel: 0\n",
      "PredictedLabel: 0\n",
      "Sample:  [6.7 3.3 5.7 2.5]\n",
      "ActualLabel: 2\n",
      "PredictedLabel: 2\n",
      "Sample:  [5.2 2.7 3.9 1.4]\n",
      "ActualLabel: 1\n",
      "PredictedLabel: 1\n",
      "Sample:  [5.8 2.7 5.1 1.9]\n",
      "ActualLabel: 2\n",
      "PredictedLabel: 2\n",
      "Sample:  [6.  2.2 5.  1.5]\n",
      "ActualLabel: 2\n",
      "PredictedLabel: 1\n",
      "Sample:  [6.5 2.8 4.6 1.5]\n",
      "ActualLabel: 1\n",
      "PredictedLabel: 1\n",
      "Sample:  [6.3 3.4 5.6 2.4]\n",
      "ActualLabel: 2\n",
      "PredictedLabel: 2\n",
      "Sample:  [6.8 3.2 5.9 2.3]\n",
      "ActualLabel: 2\n",
      "PredictedLabel: 2\n",
      "Classification Accuracy:  0.9333333333333333\n"
     ]
    }
   ],
   "source": [
    "# KNN Algorithm\n",
    "\n",
    "from sklearn.model_selection import train_test_split\n",
    "from sklearn.neighbors import KNeighborsClassifier\n",
    "from sklearn import datasets\n",
    "\n",
    "iris = datasets.load_iris()\n",
    "print(\"Iris Data Set loaded...\")\n",
    "# print(iris.data)\n",
    "# print(iris.target)\n",
    "x_train,x_test,y_train,y_test = train_test_split(iris.data,iris.target,test_size=0.1)\n",
    "print(\"Dataset is split into training and testing samples...\") \n",
    "print(\"Size of trainng data and its label\",x_train.shape,y_train.shape) \n",
    "print(\"Size of testing data and its label\",x_test.shape, y_test.shape)\n",
    "\n",
    "for i in range(len(iris.target_names)):\n",
    "    print('Label',i,\"-\",str(iris.target_names[i]))\n",
    "\n",
    "classifier = KNeighborsClassifier(n_neighbors=1)\n",
    "classifier.fit(x_train,y_train)\n",
    "y_pred = classifier.predict(x_test)\n",
    "print(\"Results of Classification using K-nn with K=1 \") \n",
    "for i in range(len(x_test)):\n",
    "    print(\"Sample: \",str(x_test[i]))\n",
    "    print(\"ActualLabel:\",str(y_test[i]))\n",
    "    print(\"PredictedLabel:\",str(y_pred[i]))\n",
    "\n",
    "print(\"Classification Accuracy: \",classifier.score(x_test,y_test))\n"
   ]
  }
 ],
 "metadata": {
  "kernelspec": {
   "display_name": "Python 3",
   "language": "python",
   "name": "python3"
  },
  "language_info": {
   "codemirror_mode": {
    "name": "ipython",
    "version": 3
   },
   "file_extension": ".py",
   "mimetype": "text/x-python",
   "name": "python",
   "nbconvert_exporter": "python",
   "pygments_lexer": "ipython3",
   "version": "3.10.5 (tags/v3.10.5:f377153, Jun  6 2022, 16:14:13) [MSC v.1929 64 bit (AMD64)]"
  },
  "orig_nbformat": 4,
  "vscode": {
   "interpreter": {
    "hash": "369f2c481f4da34e4445cda3fffd2e751bd1c4d706f27375911949ba6bb62e1c"
   }
  }
 },
 "nbformat": 4,
 "nbformat_minor": 2
}
