{
 "cells": [
  {
   "cell_type": "code",
   "execution_count": 12,
   "metadata": {},
   "outputs": [
    {
     "name": "stdout",
     "output_type": "stream",
     "text": [
      "Specific:  ['Sunny' 'Warm' 'Normal' 'Strong' 'Warm' 'Same']\n",
      "General:  [['?', '?', '?', '?', '?', '?'], ['?', '?', '?', '?', '?', '?'], ['?', '?', '?', '?', '?', '?'], ['?', '?', '?', '?', '?', '?'], ['?', '?', '?', '?', '?', '?'], ['?', '?', '?', '?', '?', '?']]\n",
      "\n",
      "Specific:  ['Sunny' 'Warm' 'Normal' 'Strong' 'Warm' 'Same']\n",
      "General:  [['?', '?', '?', '?', '?', '?'], ['?', '?', '?', '?', '?', '?'], ['?', '?', '?', '?', '?', '?'], ['?', '?', '?', '?', '?', '?'], ['?', '?', '?', '?', '?', '?'], ['?', '?', '?', '?', '?', '?']]\n",
      "\n",
      "Specific:  ['Sunny' 'Warm' '?' 'Strong' 'Warm' 'Same']\n",
      "General:  [['?', '?', '?', '?', '?', '?'], ['?', '?', '?', '?', '?', '?'], ['?', '?', '?', '?', '?', '?'], ['?', '?', '?', '?', '?', '?'], ['?', '?', '?', '?', '?', '?'], ['?', '?', '?', '?', '?', '?']]\n",
      "\n",
      "Specific:  ['Sunny' 'Warm' '?' 'Strong' 'Warm' 'Same']\n",
      "General:  [['Sunny', '?', '?', '?', '?', '?'], ['?', 'Warm', '?', '?', '?', '?'], ['?', '?', '?', '?', '?', '?'], ['?', '?', '?', '?', '?', '?'], ['?', '?', '?', '?', '?', '?'], ['?', '?', '?', '?', '?', 'Same']]\n",
      "\n",
      "Specific:  ['Sunny' 'Warm' '?' 'Strong' '?' '?']\n",
      "General:  [['Sunny', '?', '?', '?', '?', '?'], ['?', 'Warm', '?', '?', '?', '?'], ['?', '?', '?', '?', '?', '?'], ['?', '?', '?', '?', '?', '?'], ['?', '?', '?', '?', '?', '?'], ['?', '?', '?', '?', '?', '?']]\n",
      "\n",
      "Specific:  ['Sunny' 'Warm' '?' 'Strong' '?' '?']\n",
      "General:  [['Sunny', '?', '?', '?', '?', '?'], ['?', 'Warm', '?', '?', '?', '?']]\n",
      "\n"
     ]
    }
   ],
   "source": [
    "#Candidate Elimination Algorithm\n",
    "\n",
    "import numpy as np\n",
    "import pandas as pd\n",
    "\n",
    "data = pd.DataFrame(data=pd.read_csv('EnjoySport.csv'))\n",
    "concepts = np.array(data.iloc[:,0:-1])\n",
    "target = np.array(data.iloc[:,-1])\n",
    "\n",
    "def printSG(spe,gen):\n",
    "    print('Specific: ',spe)\n",
    "    print(\"General: \",gen)\n",
    "    print()\n",
    "\n",
    "def learn(concepts,target):\n",
    "    l = len(concepts[0])\n",
    "    speh = concepts[0].copy()\n",
    "    genh = [['?' for i in range(l)] for i in range(l)]\n",
    "    printSG(speh,genh)\n",
    "\n",
    "    for i,row in enumerate(concepts):\n",
    "        if target[i] == 'Yes':\n",
    "            for x in range(l):\n",
    "                if row[x] != speh[x]:\n",
    "                    speh[x] = '?'\n",
    "                    genh[x][x] = '?'\n",
    "        else:\n",
    "            for x in range(l):\n",
    "                if row[x] != speh[x]:\n",
    "                    genh[x][x] = speh[x]\n",
    "                else:\n",
    "                    genh[x][x] = '?'\n",
    "        printSG(speh,genh)\n",
    "    \n",
    "    indices = [i for i, val in enumerate(genh) if val == ['?', '?', '?', '?', '?', '?']]\n",
    "    for i in indices:\n",
    "        genh.remove(['?', '?', '?', '?', '?', '?'])\n",
    "\n",
    "    printSG(speh,genh)\n",
    "\n",
    "learn(concepts,target)"
   ]
  }
 ],
 "metadata": {
  "kernelspec": {
   "display_name": "Python 3",
   "language": "python",
   "name": "python3"
  },
  "language_info": {
   "codemirror_mode": {
    "name": "ipython",
    "version": 3
   },
   "file_extension": ".py",
   "mimetype": "text/x-python",
   "name": "python",
   "nbconvert_exporter": "python",
   "pygments_lexer": "ipython3",
   "version": "3.10.5 (tags/v3.10.5:f377153, Jun  6 2022, 16:14:13) [MSC v.1929 64 bit (AMD64)]"
  },
  "orig_nbformat": 4,
  "vscode": {
   "interpreter": {
    "hash": "369f2c481f4da34e4445cda3fffd2e751bd1c4d706f27375911949ba6bb62e1c"
   }
  }
 },
 "nbformat": 4,
 "nbformat_minor": 2
}
