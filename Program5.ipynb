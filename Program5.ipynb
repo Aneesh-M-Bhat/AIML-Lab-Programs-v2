{
 "cells": [
  {
   "cell_type": "code",
   "execution_count": 68,
   "metadata": {},
   "outputs": [
    {
     "name": "stdout",
     "output_type": "stream",
     "text": [
      "Input: \n",
      "[[0.66666667 1.        ]\n",
      " [0.33333333 0.55555556]\n",
      " [1.         0.66666667]]\n",
      "Actual Output: \n",
      "[[0.92]\n",
      " [0.86]\n",
      " [0.89]]\n",
      "Predicted Output: \n",
      " [[0.77635948]\n",
      " [0.76802496]\n",
      " [0.78129511]]\n",
      "\n",
      "[[0.02493965]\n",
      " [0.01638651]\n",
      " [0.01857474]] [[2.55152779e-05 3.17805912e-03 1.56063264e-04]\n",
      " [2.03215401e-05 2.42806035e-03 1.26899693e-04]\n",
      " [1.57302157e-05 2.05534468e-03 1.29407285e-04]]\n"
     ]
    }
   ],
   "source": [
    "# BackPropogation Algorithm\n",
    "\n",
    "import numpy as np\n",
    "x = np.array(([2,9],[1,5],[3,6]),dtype=float)\n",
    "y = np.array(([92],[86],[89]),dtype=float)\n",
    "x = x/np.amax(x,axis=0)\n",
    "y = y/100\n",
    "\n",
    "def sigmoid(x):\n",
    "    return 1/(1+np.exp(-x))\n",
    "\n",
    "def derivative(x):\n",
    "    return x*(1-x)\n",
    "\n",
    "epoch = 5000\n",
    "lr = 0.1\n",
    "input = 2\n",
    "hidden = 3\n",
    "output = 1\n",
    "\n",
    "wh = np.random.uniform(size=(input,hidden))\n",
    "bh = np.random.uniform(size=(1,hidden))\n",
    "wout = np.random.uniform(size=(hidden,output))\n",
    "bout = np.random.uniform(size=(1,output))\n",
    "\n",
    "for i in range(epoch):\n",
    "    # Forward Propogation\n",
    "    act = sigmoid(np.dot(x,wh)+bh)\n",
    "    output = sigmoid(np.dot(act,wout)+bout)\n",
    "\n",
    "    # Next part not needed i.e. doesnt affect output\n",
    "    doutput = (y-output)*derivative(output) #Backpropagation\n",
    "    dhidden = doutput.dot(wout.T)*derivative(act) #HiddenLayer contribution to error \n",
    "\n",
    "# (Isn't needed for output) Dotproduct of nextlayererror & currentlayerop\n",
    "wout += act.T.dot(doutput) *lr\n",
    "wh += x.T.dot(dhidden) *lr\n",
    "\n",
    "print(\"Input: \\n\" + str(x)) \n",
    "print(\"Actual Output: \\n\" + str(y))\n",
    "print(\"Predicted Output: \\n\" ,output)"
   ]
  }
 ],
 "metadata": {
  "kernelspec": {
   "display_name": "Python 3",
   "language": "python",
   "name": "python3"
  },
  "language_info": {
   "codemirror_mode": {
    "name": "ipython",
    "version": 3
   },
   "file_extension": ".py",
   "mimetype": "text/x-python",
   "name": "python",
   "nbconvert_exporter": "python",
   "pygments_lexer": "ipython3",
   "version": "3.10.5 (tags/v3.10.5:f377153, Jun  6 2022, 16:14:13) [MSC v.1929 64 bit (AMD64)]"
  },
  "orig_nbformat": 4,
  "vscode": {
   "interpreter": {
    "hash": "369f2c481f4da34e4445cda3fffd2e751bd1c4d706f27375911949ba6bb62e1c"
   }
  }
 },
 "nbformat": 4,
 "nbformat_minor": 2
}
