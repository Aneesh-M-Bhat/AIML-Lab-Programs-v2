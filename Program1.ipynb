{
 "cells": [
  {
   "cell_type": "code",
   "execution_count": 6,
   "metadata": {},
   "outputs": [
    {
     "name": "stdout",
     "output_type": "stream",
     "text": [
      "Path found: ['A', 'C', 'E']\n"
     ]
    },
    {
     "data": {
      "text/plain": [
       "['A', 'C', 'E']"
      ]
     },
     "execution_count": 6,
     "metadata": {},
     "output_type": "execute_result"
    }
   ],
   "source": [
    "#A Star Algorithm\n",
    "\n",
    "def aStarAlgo(start,stop):\n",
    "    openSet = set(start)\n",
    "    closedSet = set()\n",
    "    dist = {}\n",
    "    parent = {}\n",
    "    dist[start] = 0\n",
    "    parent[start] = start\n",
    "\n",
    "    while len(openSet)>0:\n",
    "        n = None\n",
    "\n",
    "        #Finding node with min value of dist+heuristic\n",
    "        for v in openSet:\n",
    "            if n == None or dist[v] + H[v] < dist[n] + H[n]:\n",
    "                n = v\n",
    "\n",
    "        if n == stop or Graph[n] == None:\n",
    "            pass\n",
    "\n",
    "        else:\n",
    "\n",
    "            #for every neighbor (breadth first approach)\n",
    "            for(v,weight) in getNeighbors(n):\n",
    "\n",
    "                #it means first time we are coming across this node\n",
    "                if v not in openSet and v not in closedSet:\n",
    "                    openSet.add(v)\n",
    "                    parent[v] = n\n",
    "                    dist[v] = dist[n] + weight\n",
    "                \n",
    "                else:\n",
    "\n",
    "                    #making sure distance stored is smallest one\n",
    "                    if dist[v] > dist[n] + weight:\n",
    "                        dist[v] = dist[n] + weight\n",
    "                        parent[v] = n\n",
    "\n",
    "                        #Since u updated distance recalculate\n",
    "                        if v in closedSet:\n",
    "                            closedSet.remove(v)\n",
    "                            openSet.add(v)\n",
    "        if n == None:\n",
    "            print(\"Path doesn't Exist\")\n",
    "            return None\n",
    "        \n",
    "        if n == stop:\n",
    "            path = []\n",
    "            while parent[n]!=n:\n",
    "                path.append(n)\n",
    "                n = parent[n]\n",
    "\n",
    "            path.append(start)\n",
    "            path.reverse()\n",
    "            print(\"Path found: {}\".format(path))\n",
    "            return path\n",
    "\n",
    "        openSet.remove(n)\n",
    "        closedSet.add(n)\n",
    "    \n",
    "    print(\"Path doesn't Exist\")\n",
    "    return None\n",
    "\n",
    "def getNeighbors(v):\n",
    "    if v in Graph:\n",
    "        return Graph[v]\n",
    "    else:\n",
    "        return None\n",
    "        \n",
    "Graph = {\n",
    "    'A':[('B',1),('C',1)],\n",
    "    'B':[('C',1),('D',1)],\n",
    "    'C':[('D',1),('E',1)],\n",
    "    'D':[('E',1),('A',1)],\n",
    "    'E':[('A',1),('B',1)]\n",
    "}\n",
    "H = {\n",
    "    'A':1,\n",
    "    'B':2,\n",
    "    'C':3,\n",
    "    'D':4,\n",
    "    'E':5,\n",
    "}\n",
    "\n",
    "aStarAlgo('A','E')"
   ]
  }
 ],
 "metadata": {
  "kernelspec": {
   "display_name": "Python 3",
   "language": "python",
   "name": "python3"
  },
  "language_info": {
   "codemirror_mode": {
    "name": "ipython",
    "version": 3
   },
   "file_extension": ".py",
   "mimetype": "text/x-python",
   "name": "python",
   "nbconvert_exporter": "python",
   "pygments_lexer": "ipython3",
   "version": "3.10.5"
  },
  "orig_nbformat": 4,
  "vscode": {
   "interpreter": {
    "hash": "369f2c481f4da34e4445cda3fffd2e751bd1c4d706f27375911949ba6bb62e1c"
   }
  }
 },
 "nbformat": 4,
 "nbformat_minor": 2
}
