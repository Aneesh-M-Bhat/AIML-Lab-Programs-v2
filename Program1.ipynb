{
 "cells": [
  {
   "cell_type": "code",
   "execution_count": 4,
   "metadata": {},
   "outputs": [
    {
     "name": "stdout",
     "output_type": "stream",
     "text": [
      "Path found: ['A', 'F', 'G', 'I', 'J']\n"
     ]
    },
    {
     "data": {
      "text/plain": [
       "['A', 'F', 'G', 'I', 'J']"
      ]
     },
     "execution_count": 4,
     "metadata": {},
     "output_type": "execute_result"
    }
   ],
   "source": [
    "#A Star Algorithm\n",
    "\n",
    "def aStarAlgo(start,stop):\n",
    "    openSet = set(start)\n",
    "    closedSet = set()\n",
    "    dist = {}\n",
    "    parent = {}\n",
    "    dist[start] = 0\n",
    "    parent[start] = start\n",
    "\n",
    "    while len(openSet)>0:\n",
    "        n = None\n",
    "\n",
    "        #Finding node with min value of dist+heuristic\n",
    "        for v in openSet:\n",
    "            if n == None or dist[v] + heuristic(v) < dist[n] + heuristic(n):\n",
    "                n = v\n",
    "\n",
    "        if n == stop or Graph[n] == None:\n",
    "            pass\n",
    "\n",
    "        else:\n",
    "\n",
    "            #for every neighbor (breadth first approach)\n",
    "            for(v,weight) in getNeighbors(n):\n",
    "\n",
    "                #it means first time we are coming across this node\n",
    "                if v not in openSet and v not in closedSet:\n",
    "                    openSet.add(v)\n",
    "                    parent[v] = n\n",
    "                    dist[v] = dist[n] + weight\n",
    "                \n",
    "                else:\n",
    "\n",
    "                    #making sure distance stored is smallest one\n",
    "                    if dist[v] > dist[n] + weight:\n",
    "                        dist[v] = dist[n] + weight\n",
    "                        parent[v] = n\n",
    "\n",
    "                        #Since u updated distance recalculate\n",
    "                        if v in closedSet:\n",
    "                            closedSet.remove(v)\n",
    "                            openSet.add(v)\n",
    "        if n == None:\n",
    "            print(\"Path doesn't Exist\")\n",
    "            return None\n",
    "        \n",
    "        if n == stop:\n",
    "            path = []\n",
    "            while parent[n]!=n:\n",
    "                path.append(n)\n",
    "                n = parent[n]\n",
    "\n",
    "            path.append(start)\n",
    "            path.reverse()\n",
    "            print(\"Path found: {}\".format(path))\n",
    "            return path\n",
    "\n",
    "        openSet.remove(n)\n",
    "        closedSet.add(n)\n",
    "    \n",
    "    print(\"Path doesn't Exist\")\n",
    "    return None\n",
    "\n",
    "def getNeighbors(v):\n",
    "    if v in Graph:\n",
    "        return Graph[v]\n",
    "    else:\n",
    "        return None\n",
    "\n",
    "def heuristic(n):\n",
    "    Hdist = {\n",
    "        'A':10,\n",
    "        'B':8,\n",
    "        'C':5,\n",
    "        'D':7,\n",
    "        'E':3,\n",
    "        'F':6,\n",
    "        'G':5,\n",
    "        'H':3,\n",
    "        'I':1,\n",
    "        'J':0,\n",
    "    }\n",
    "    return Hdist[n]\n",
    "\n",
    "Graph = {\n",
    "    'A': [('B', 6), ('F', 3)],\n",
    "    'B': [('C', 3), ('D', 2)],\n",
    "    'C': [('D', 1), ('E', 5)],\n",
    "    'D': [('C', 1), ('E', 8)],\n",
    "    'E': [('I', 5), ('J', 5)],\n",
    "    'F': [('G', 1),('H', 7)] ,\n",
    "    'G': [('I', 3)],\n",
    "    'H': [('I', 2)],\n",
    "    'I': [('E', 5), ('J', 3)],\n",
    "}\n",
    "\n",
    "aStarAlgo('A','J')"
   ]
  }
 ],
 "metadata": {
  "kernelspec": {
   "display_name": "Python 3",
   "language": "python",
   "name": "python3"
  },
  "language_info": {
   "codemirror_mode": {
    "name": "ipython",
    "version": 3
   },
   "file_extension": ".py",
   "mimetype": "text/x-python",
   "name": "python",
   "nbconvert_exporter": "python",
   "pygments_lexer": "ipython3",
   "version": "3.10.5 (tags/v3.10.5:f377153, Jun  6 2022, 16:14:13) [MSC v.1929 64 bit (AMD64)]"
  },
  "orig_nbformat": 4,
  "vscode": {
   "interpreter": {
    "hash": "369f2c481f4da34e4445cda3fffd2e751bd1c4d706f27375911949ba6bb62e1c"
   }
  }
 },
 "nbformat": 4,
 "nbformat_minor": 2
}
