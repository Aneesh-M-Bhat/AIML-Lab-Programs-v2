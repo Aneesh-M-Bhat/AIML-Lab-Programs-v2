{
 "cells": [
  {
   "cell_type": "code",
   "execution_count": 11,
   "metadata": {},
   "outputs": [
    {
     "name": "stdout",
     "output_type": "stream",
     "text": [
      "{'E': [], 'C': ['E'], 'A': ['C']}\n"
     ]
    }
   ],
   "source": [
    "#AO Star Algorithm\n",
    "\n",
    "status = {}\n",
    "Graph = {\n",
    "    'A' : [[('B',1)],[('C',1)]],\n",
    "    'B' : [[('C',1)],[('D',1)]],\n",
    "    'C' : [[('D',1)],[('E',1)]],\n",
    "    'D' : [[('E',1)],[('F',1)]]\n",
    "}\n",
    "H = {'A':1,'B':2,'C':3,'D':4,'E':5,'F':6}\n",
    "start = 'A'\n",
    "solutionGraph = {}\n",
    "parent = {}\n",
    "\n",
    "def aoStar(v, backTracking): \n",
    "    if status.get(v,0) >= 0: \n",
    "        minCost, childList = getChildList(v)\n",
    "        H[v] = minCost\n",
    "        status[v] = len(childList)\n",
    "\n",
    "        solved=True \n",
    "        \n",
    "        for child in childList:\n",
    "            parent[child]=v\n",
    "            if status.get(child,0) != -1:\n",
    "                solved=solved & False\n",
    "\n",
    "        if solved==True: \n",
    "            status[v] = -1\n",
    "            solutionGraph[v]=childList \n",
    "\n",
    "        if v!=start: \n",
    "            aoStar(parent[v], True) \n",
    "\n",
    "        if backTracking==False: \n",
    "            for child in childList: \n",
    "                status[child] = 0\n",
    "                aoStar(child, False) \n",
    "\n",
    "def getChildList(v): \n",
    "    minCost=0\n",
    "    childList={}\n",
    "    childList[minCost]=[]\n",
    "    flag=True\n",
    "    for neighbour in Graph.get(v,''): \n",
    "        cost=0\n",
    "        nodeList=[]\n",
    "        for c, weight in neighbour:\n",
    "            cost=cost+H[c]+weight\n",
    "            nodeList.append(c)\n",
    "        \n",
    "        if flag==True: \n",
    "            minCost=cost\n",
    "            childList[minCost]=nodeList \n",
    "            flag=False\n",
    "\n",
    "        else: \n",
    "            if minCost>cost:\n",
    "                minCost=cost\n",
    "                childList[minCost]=nodeList \n",
    "\n",
    "    return minCost, childList[minCost] \n",
    "    \n",
    "aoStar(start,False)\n",
    "print(solutionGraph)"
   ]
  }
 ],
 "metadata": {
  "kernelspec": {
   "display_name": "Python 3",
   "language": "python",
   "name": "python3"
  },
  "language_info": {
   "codemirror_mode": {
    "name": "ipython",
    "version": 3
   },
   "file_extension": ".py",
   "mimetype": "text/x-python",
   "name": "python",
   "nbconvert_exporter": "python",
   "pygments_lexer": "ipython3",
   "version": "3.10.5"
  },
  "orig_nbformat": 4,
  "vscode": {
   "interpreter": {
    "hash": "369f2c481f4da34e4445cda3fffd2e751bd1c4d706f27375911949ba6bb62e1c"
   }
  }
 },
 "nbformat": 4,
 "nbformat_minor": 2
}
